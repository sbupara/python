{
 "cells": [
  {
   "cell_type": "code",
   "execution_count": 1,
   "metadata": {},
   "outputs": [
    {
     "name": "stdout",
     "output_type": "stream",
     "text": [
      "Output: <sha256 HASH object @ 0x00000182F03BAAD0>\n"
     ]
    }
   ],
   "source": [
    "#Simple Python program that prints the SHA256 hash of \"Hello World\" in hexadecimal\n",
    "\n",
    "#Let us use the hashlib module\n",
    "import hashlib\n",
    "\n",
    "#create a variable container for the string\n",
    "hw = 'Hello World'\n",
    "\n",
    "#encode the above to bytes in prep for sha256 \n",
    "encoded_hw = hw.encode()\n",
    "\n",
    "#pass above through sha256 function\n",
    "hashed_hw = hashlib.sha256(encoded_hw)\n",
    "\n",
    "#print the results\n",
    "print(\"Output:\", hashed_hw)"
   ]
  },
  {
   "cell_type": "code",
   "execution_count": 2,
   "metadata": {},
   "outputs": [
    {
     "name": "stdout",
     "output_type": "stream",
     "text": [
      "Resulting hexidecimal format of Hello World is a591a6d40bf420404a011733cfb7b190d62c65bf0bcda32b57b277d9ad9f146e\n"
     ]
    }
   ],
   "source": [
    "print(\"Resulting hexidecimal format of\",hw,\"is\", hashed_hw.hexdigest())"
   ]
  },
  {
   "cell_type": "code",
   "execution_count": null,
   "metadata": {},
   "outputs": [],
   "source": []
  }
 ],
 "metadata": {
  "kernelspec": {
   "display_name": "Python 3",
   "language": "python",
   "name": "python3"
  },
  "language_info": {
   "codemirror_mode": {
    "name": "ipython",
    "version": 3
   },
   "file_extension": ".py",
   "mimetype": "text/x-python",
   "name": "python",
   "nbconvert_exporter": "python",
   "pygments_lexer": "ipython3",
   "version": "3.8.5"
  }
 },
 "nbformat": 4,
 "nbformat_minor": 4
}
