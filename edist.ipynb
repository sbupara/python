{
 "cells": [
  {
   "cell_type": "code",
   "execution_count": 6,
   "metadata": {},
   "outputs": [
    {
     "name": "stdout",
     "output_type": "stream",
     "text": [
      "The Euclidean distance between the two cluster centers is 5.0\n"
     ]
    }
   ],
   "source": [
    "# Sean's simple Euclidean distance function to calculate the distance between two cluster centers\n",
    "\n",
    "# Insert values from cluster centers\n",
    "x1 = 8\n",
    "y1 = 9\n",
    "x2 = 4\n",
    "y2 = 6\n",
    "\n",
    "# Calculate Euclidean distance from above data using the 'math' module  \n",
    "import math\n",
    "\n",
    "a = x2 - x1\n",
    "b = y2 - y1\n",
    "e_dist = math.sqrt((a**2) + (b**2))\n",
    "\n",
    "print(\"The Euclidean distance between the two cluster centers is\", e_dist)"
   ]
  }
 ],
 "metadata": {
  "kernelspec": {
   "display_name": "Python 3",
   "language": "python",
   "name": "python3"
  },
  "language_info": {
   "codemirror_mode": {
    "name": "ipython",
    "version": 3
   },
   "file_extension": ".py",
   "mimetype": "text/x-python",
   "name": "python",
   "nbconvert_exporter": "python",
   "pygments_lexer": "ipython3",
   "version": "3.8.5"
  }
 },
 "nbformat": 4,
 "nbformat_minor": 4
}
